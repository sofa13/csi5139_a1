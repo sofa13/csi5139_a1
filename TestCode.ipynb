{
 "cells": [
  {
   "cell_type": "code",
   "execution_count": 10,
   "metadata": {},
   "outputs": [
    {
     "name": "stdout",
     "output_type": "stream",
     "text": [
      "Shit\n",
      "<PIL.PpmImagePlugin.PpmImageFile image mode=L size=32x30 at 0x269BC7005C0>\n",
      "Shit\n"
     ]
    },
    {
     "name": "stderr",
     "output_type": "stream",
     "text": [
      "C:\\Users\\Sophie\\Anaconda3\\lib\\site-packages\\ipykernel_launcher.py:16: DeprecationWarning: `imread` is deprecated!\n",
      "`imread` is deprecated in SciPy 1.0.0, and will be removed in 1.2.0.\n",
      "Use ``imageio.imread`` instead.\n",
      "  app.launch_new_instance()\n"
     ]
    },
    {
     "data": {
      "text/plain": [
       "<matplotlib.image.AxesImage at 0x269bc789128>"
      ]
     },
     "execution_count": 10,
     "metadata": {},
     "output_type": "execute_result"
    },
    {
     "data": {
      "image/png": "[encoded data removed]",
      "text/plain": [
       "<Figure size 432x288 with 1 Axes>"
      ]
     },
     "metadata": {},
     "output_type": "display_data"
    }
   ],
   "source": [
    "from pathlib import Path\n",
    "import pgm2pil\n",
    "\n",
    "fname = 'datasets/faces/an2i/an2i_left_neutral_open_4.pgm'\n",
    "an2i = Path( fname )\n",
    "an2i.exists()\n",
    "\n",
    "import PIL.Image\n",
    "#origImageOpen = PIL.Image.open\n",
    "#PIL.Image.open = pgm2pil.imageOpenWrapper\n",
    "an2i_im = PIL.Image.open(fname)\n",
    "print(an2i_im)\n",
    "\n",
    "# or we can use the misc package that in turn uses PIL\n",
    "from scipy import misc\n",
    "an2i_im = misc.imread(fname)\n",
    "\n",
    "import importlib\n",
    "# importlib.reload(pgm2pil)\n",
    "\n",
    "\n",
    "# not needed anymore changed pgm2pil\n",
    "# import numpy as np\n",
    "# an2i_im_up = np.flipud(an2i_im)\n",
    "\n",
    "import matplotlib.pyplot as plt\n",
    "\n",
    "# make it non-blocking -- only needed once\n",
    "plt.ion() \n",
    "\n",
    "plt.imshow(an2i_im, cmap=plt.cm.gray)\n",
    "# Only needed if blocking\n",
    "#plt.show()"
   ]
  },
  {
   "cell_type": "code",
   "execution_count": 11,
   "metadata": {},
   "outputs": [
    {
     "name": "stdout",
     "output_type": "stream",
     "text": [
      "30\n",
      "32\n"
     ]
    }
   ],
   "source": [
    "print(len(an2i_im))\n",
    "print(len(an2i_im[0]))"
   ]
  },
  {
   "cell_type": "code",
   "execution_count": null,
   "metadata": {},
   "outputs": [],
   "source": [
    "# test append\n",
    "a = np.array([[1, 2], [3, 4]])\n",
    "print(a)\n",
    "a = a.reshape(1, -1)\n",
    "print(a)\n",
    "#a = np.empty((1,1))\n",
    "a = None\n",
    "\n",
    "for i in range(10):\n",
    "    #a = np.append(a, np.array([i]))\n",
    "    if a is None:\n",
    "        a = np.array([[i]])\n",
    "    else:\n",
    "        a = np.r_[a, np.array([[i]])]\n",
    "    \n",
    "print(a)"
   ]
  }
 ],
 "metadata": {
  "kernelspec": {
   "display_name": "Python 3",
   "language": "python",
   "name": "python3"
  },
  "language_info": {
   "codemirror_mode": {
    "name": "ipython",
    "version": 3
   },
   "file_extension": ".py",
   "mimetype": "text/x-python",
   "name": "python",
   "nbconvert_exporter": "python",
   "pygments_lexer": "ipython3",
   "version": "3.6.5"
  }
 },
 "nbformat": 4,
 "nbformat_minor": 2
}
