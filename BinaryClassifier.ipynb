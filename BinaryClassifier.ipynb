{
 "cells": [
  {
   "cell_type": "markdown",
   "metadata": {},
   "source": [
    "**CSI5139 Assignment 1: Image Labelling - Linear Classiﬁcation**\n",
    "\n",
    "In this assignment we use the CMU Image dataset, and train binary and multiclass linear classifier."
   ]
  },
  {
   "cell_type": "markdown",
   "metadata": {},
   "source": [
    "### Setup"
   ]
  },
  {
   "cell_type": "code",
   "execution_count": 133,
   "metadata": {},
   "outputs": [],
   "source": [
    "import pgm2pil\n",
    "import PIL.Image\n",
    "import numpy as np\n",
    "import os\n",
    "from scipy import misc\n",
    "from pprint import pprint\n",
    "import imageio\n",
    "import matplotlib.pyplot as plt\n",
    "\n",
    "from sklearn.linear_model import LogisticRegression\n",
    "from sklearn.metrics import accuracy_score\n",
    "from sklearn.metrics import precision_score, recall_score, f1_score, confusion_matrix\n",
    "from sklearn.model_selection import cross_val_predict\n",
    "from sklearn.metrics import roc_curve\n",
    "\n",
    "origImageOpen = PIL.Image.open\n",
    "PIL.Image.open = pgm2pil.imageOpenWrapper"
   ]
  },
  {
   "cell_type": "code",
   "execution_count": 88,
   "metadata": {},
   "outputs": [],
   "source": [
    "# to make this notebook's output stable across runs\n",
    "np.random.seed(42)"
   ]
  },
  {
   "cell_type": "markdown",
   "metadata": {},
   "source": [
    "### CMU Image dataset"
   ]
  },
  {
   "cell_type": "code",
   "execution_count": 49,
   "metadata": {},
   "outputs": [],
   "source": [
    "def appendArray(images, labels, image, label):\n",
    "    label = np.array([label])\n",
    "    image = image.reshape(1, -1)\n",
    "    if images is None:\n",
    "        images = image\n",
    "        labels = label\n",
    "    else:\n",
    "        images = np.r_[images, image]\n",
    "        labels = np.r_[labels, label]\n",
    "    \n",
    "    return [images, labels]"
   ]
  },
  {
   "cell_type": "code",
   "execution_count": 57,
   "metadata": {},
   "outputs": [
    {
     "name": "stdout",
     "output_type": "stream",
     "text": [
      "array([[34.326923 ,  3.2692308,  1.6346154, ..., 80.09615  , 40.865383 ,\n",
      "         0.       ],\n",
      "       [ 0.       ,  0.       ,  0.       , ...,  3.227848 ,  0.       ,\n",
      "         0.       ],\n",
      "       [34.326923 ,  3.2692308,  0.       , ...,  6.5384617,  1.6346154,\n",
      "         0.       ],\n",
      "       ...,\n",
      "       [ 0.       ,  0.       ,  7.0833335, ..., 69.0625   , 69.0625   ,\n",
      "        67.291664 ],\n",
      "       [ 0.       ,  0.       ,  7.2340426, ..., 68.723404 , 66.914894 ,\n",
      "        65.106384 ],\n",
      "       [ 0.       ,  0.       ,  8.916084 , ..., 71.328674 , 69.545456 ,\n",
      "        67.76224  ]], dtype=float32)\n",
      "array([['an2i', 'left', 'angry', 'open'],\n",
      "       ['an2i', 'left', 'angry', 'sunglasses'],\n",
      "       ['an2i', 'left', 'happy', 'open'],\n",
      "       ...,\n",
      "       ['tammo', 'up', 'neutral', 'sunglasses'],\n",
      "       ['tammo', 'up', 'sad', 'open'],\n",
      "       ['tammo', 'up', 'sad', 'sunglasses']], dtype='<U10')\n",
      "# A1:  624\n",
      "# A1[0]:  15360\n",
      "# Y1:  624\n",
      "# A2:  624\n",
      "# A2[0]:  3840\n",
      "# Y2:  624\n",
      "# A4:  624\n",
      "# A4[0]:  960\n",
      "# Y4 624\n"
     ]
    }
   ],
   "source": [
    "folder = 'datasets/faces/'\n",
    "folders = [x[0] for x in os.walk(folder)]\n",
    "folders = folders[1:]\n",
    "\n",
    "A1, A2, A4 = None, None, None\n",
    "Y1, Y2, Y4 = None, None, None\n",
    "for fld in folders:\n",
    "    for file in os.listdir(fld):\n",
    "        labels = file\n",
    "        file = os.path.join(fld, file)\n",
    "        \n",
    "        # handle .bad files\n",
    "        if file.endswith('.pgm'):\n",
    "\n",
    "            image = PIL.Image.open(file)\n",
    "            image = np.array(image)\n",
    "            \n",
    "            # get target person, head pose, facial expression, sunglasses state\n",
    "            labels = labels.split('.')\n",
    "            labels = labels[0].split('_')\n",
    "\n",
    "            # sort resolution\n",
    "            if len(labels) == 4:\n",
    "                A1, Y1 = appendArray(A1, Y1, image, labels)\n",
    "            elif len(labels) == 5:\n",
    "                res = labels[-1]\n",
    "                labels = labels[:-1]\n",
    "                if res == '2':\n",
    "                    A2, Y2 = appendArray(A2, Y2, image, labels)\n",
    "                elif res == '4':\n",
    "                    A4, Y4 = appendArray(A4, Y4, image, labels)     \n",
    "\n",
    "pprint(A1)\n",
    "pprint(Y1)\n",
    "print(\"# A1: \", len(A1))\n",
    "print(\"# A1[0]: \", len(A1[0]))\n",
    "print(\"# Y1: \", len(Y1))\n",
    "print(\"# A2: \", len(A2))\n",
    "print(\"# A2[0]: \", len(A2[0]))\n",
    "print(\"# Y2: \", len(Y2))\n",
    "print(\"# A4: \", len(A4))\n",
    "print(\"# A4[0]: \", len(A4[0]))\n",
    "print(\"# Y4\", len(Y4))"
   ]
  },
  {
   "cell_type": "markdown",
   "metadata": {},
   "source": [
    "We can use the matplotlib library to plot the image as a grayscale image with pyplot. Let's find images labeled sunglasses.   "
   ]
  },
  {
   "cell_type": "code",
   "execution_count": 115,
   "metadata": {},
   "outputs": [
    {
     "name": "stdout",
     "output_type": "stream",
     "text": [
      "There are 311 images that are labeled sunglasses\n"
     ]
    },
    {
     "data": {
      "image/png": "[encoded data removed]",
      "text/plain": [
       "<Figure size 432x288 with 1 Axes>"
      ]
     },
     "metadata": {},
     "output_type": "display_data"
    },
    {
     "data": {
      "image/png": "[encoded data removed]",
      "text/plain": [
       "<Figure size 432x288 with 1 Axes>"
      ]
     },
     "metadata": {},
     "output_type": "display_data"
    },
    {
     "data": {
      "image/png": "[encoded data removed]",
      "text/plain": [
       "<Figure size 432x288 with 1 Axes>"
      ]
     },
     "metadata": {},
     "output_type": "display_data"
    }
   ],
   "source": [
    "indexSung = np.where(Y1=='sunglasses')[0]\n",
    "print('There are {0} images that are labeled sunglasses'.format(indexSung.shape[0]))\n",
    "\n",
    "# randomly pick an image\n",
    "np.random.seed(42)\n",
    "pick = indexSung[np.random.choice(indexSung.shape[0])]\n",
    "sung1, sung2, sung4 = A1[pick,:], A2[pick,:], A4[pick,:]\n",
    "# reshape into a matrix\n",
    "sung1_image, sung2_image, sung4_image = sung1.reshape(120, 128), sung2.reshape(60, 64), sung4.reshape(30, 32)\n",
    "plt.ion() \n",
    "plt.imshow(sung1_image, cmap=plt.cm.gray)\n",
    "plt.show()\n",
    "plt.imshow(sung2_image, cmap=plt.cm.gray)\n",
    "plt.show()\n",
    "plt.imshow(sung4_image, cmap=plt.cm.gray)\n",
    "plt.show()"
   ]
  },
  {
   "cell_type": "markdown",
   "metadata": {},
   "source": [
    "### Test and Training Data\n",
    "\n",
    "Split data into test and training data after re-shuffling the data. Split into 80/20 splits."
   ]
  },
  {
   "cell_type": "code",
   "execution_count": 91,
   "metadata": {},
   "outputs": [
    {
     "name": "stdout",
     "output_type": "stream",
     "text": [
      "446\n"
     ]
    }
   ],
   "source": [
    "np.random.seed(42)\n",
    "shuffle_index = np.random.permutation(624)\n",
    "print(shuffle_index[0])\n",
    "# reshuffle the data and use 500 samples as training and 124 as test\n",
    "A1train, A1test, Y1train, Y1test = A1[shuffle_index[:500],:], A1[shuffle_index[500:],:], Y1[shuffle_index[:500]], Y1[shuffle_index[500:]]\n",
    "A2train, A2test, Y2train, Y2test = A2[shuffle_index[:500],:], A2[shuffle_index[500:],:], Y2[shuffle_index[:500]], Y2[shuffle_index[500:]]\n",
    "A4train, A4test, Y4train, Y4test = A4[shuffle_index[:500],:], A4[shuffle_index[500:],:], Y4[shuffle_index[:500]], Y4[shuffle_index[500:]]"
   ]
  },
  {
   "cell_type": "markdown",
   "metadata": {},
   "source": [
    "### Binary Classifier\n",
    "Use A4 to train a logistic regression classiﬁer for the class sunglasses vs. open. Find and print the confusion matrix, the accuracy, the recall and the precision of your classiﬁer based on the training data, as well as on the testing data. Print the ROC curve."
   ]
  },
  {
   "cell_type": "code",
   "execution_count": 111,
   "metadata": {},
   "outputs": [
    {
     "name": "stdout",
     "output_type": "stream",
     "text": [
      "We have a training set with 248 images of sunglasses, and a test set with 63\n"
     ]
    }
   ],
   "source": [
    "Y4train_sung = (Y4train == 'sunglasses')[:,3]\n",
    "Y4test_sung = (Y4test == 'sunglasses')[:,3]\n",
    "print('We have a training set with {0} images of sunglasses, and a test set with {1}'.format(sum(Y1train_sung),sum(Y1test_sung)))\n"
   ]
  },
  {
   "cell_type": "code",
   "execution_count": 112,
   "metadata": {},
   "outputs": [
    {
     "data": {
      "text/plain": [
       "LogisticRegression(C=1.0, class_weight=None, dual=False, fit_intercept=True,\n",
       "          intercept_scaling=1, max_iter=5, multi_class='ovr', n_jobs=1,\n",
       "          penalty='l2', random_state=None, solver='liblinear', tol=0.0001,\n",
       "          verbose=0, warm_start=False)"
      ]
     },
     "execution_count": 112,
     "metadata": {},
     "output_type": "execute_result"
    }
   ],
   "source": [
    "bin_clf = LogisticRegression(max_iter=5)\n",
    "bin_clf.fit(A4train, Y4train_sung)"
   ]
  },
  {
   "cell_type": "markdown",
   "metadata": {},
   "source": [
    "Let's pick a sunglasses out of the training set and see what our classifier predicts."
   ]
  },
  {
   "cell_type": "code",
   "execution_count": 120,
   "metadata": {},
   "outputs": [
    {
     "data": {
      "image/png": "[encoded data removed]",
      "text/plain": [
       "<Figure size 432x288 with 1 Axes>"
      ]
     },
     "metadata": {},
     "output_type": "display_data"
    },
    {
     "name": "stdout",
     "output_type": "stream",
     "text": [
      "Classifier prediction is [ True] that the image is a sunglasses\n"
     ]
    }
   ],
   "source": [
    "indexSung = np.where(Y4=='sunglasses')[0]\n",
    "# randomly pick an image\n",
    "np.random.seed(42)\n",
    "pick = indexSung[np.random.choice(indexSung.shape[0])]\n",
    "sung4 = A4[pick,:]\n",
    "# reshape into a matrix\n",
    "sung4_image = sung4.reshape(30, 32)\n",
    "plt.ion() \n",
    "plt.imshow(sung4_image, cmap=plt.cm.gray)\n",
    "plt.show()\n",
    "\n",
    "print('Classifier prediction is {0} that the image is a sunglasses'.format(bin_clf.predict([sung4])))"
   ]
  },
  {
   "cell_type": "markdown",
   "metadata": {},
   "source": [
    "Let's calculate accuracy"
   ]
  },
  {
   "cell_type": "code",
   "execution_count": 127,
   "metadata": {},
   "outputs": [
    {
     "name": "stdout",
     "output_type": "stream",
     "text": [
      "Classifier accuracy on the training set is 1.0 \n",
      "Classifier accuracy on the test set is 0.9193548387096774 \n"
     ]
    }
   ],
   "source": [
    "Y4pred_train = bin_clf.predict(A4train)\n",
    "print('Classifier accuracy on the training set is {0} '.format(accuracy_score(Y4train_sung, Y4pred_train)))\n",
    "\n",
    "Y4pred_test = bin_clf.predict(A4test)\n",
    "print('Classifier accuracy on the test set is {0} '.format(accuracy_score(Y4test_sung, Y4pred_test)))"
   ]
  },
  {
   "cell_type": "markdown",
   "metadata": {},
   "source": [
    "Let's calculate precision, recall and the f1 score; easy to crunch numbers ourselves but its built in. And the confusion matrix."
   ]
  },
  {
   "cell_type": "code",
   "execution_count": 129,
   "metadata": {},
   "outputs": [
    {
     "name": "stdout",
     "output_type": "stream",
     "text": [
      "Classifier scores on training set: \n",
      "Precision is 1.0 \n",
      "Recall is 1.0 \n",
      "F1 is 1.0 \n",
      "And the confusion matrix: \n",
      " [[252   0]\n",
      " [  0 248]]\n",
      "\n",
      "Classifier scores on test set: \n",
      "Precision is 0.9491525423728814 \n",
      "Recall is 0.8888888888888888 \n",
      "F1 is 0.9180327868852458 \n",
      "And the confusion matrix: \n",
      " [[58  3]\n",
      " [ 7 56]]\n"
     ]
    }
   ],
   "source": [
    "print('Classifier scores on training set: ')\n",
    "print('Precision is {0} '.format(precision_score(Y4train_sung, Y4pred_train)))\n",
    "print('Recall is {0} '.format(recall_score(Y4train_sung, Y4pred_train)))\n",
    "print('F1 is {0} '.format(f1_score(Y4train_sung, Y4pred_train)))\n",
    "\n",
    "print( 'And the confusion matrix: \\n {0}'.format(confusion_matrix(Y4train_sung, Y4pred_train) ))\n",
    "\n",
    "print()\n",
    "print('Classifier scores on test set: ')\n",
    "print('Precision is {0} '.format(precision_score(Y4test_sung, Y4pred_test)))\n",
    "print('Recall is {0} '.format(recall_score(Y4test_sung, Y4pred_test)))\n",
    "print('F1 is {0} '.format(f1_score(Y4test_sung, Y4pred_test)))\n",
    "\n",
    "print( 'And the confusion matrix: \\n {0}'.format(confusion_matrix(Y4test_sung, Y4pred_test) ))"
   ]
  },
  {
   "cell_type": "code",
   "execution_count": 131,
   "metadata": {},
   "outputs": [
    {
     "data": {
      "text/plain": [
       "Text(0,0.5,'Count')"
      ]
     },
     "execution_count": 131,
     "metadata": {},
     "output_type": "execute_result"
    },
    {
     "data": {
      "image/png": "[encoded data removed]",
      "text/plain": [
       "<Figure size 432x288 with 1 Axes>"
      ]
     },
     "metadata": {},
     "output_type": "display_data"
    }
   ],
   "source": [
    "y_scores = cross_val_predict(bin_clf, A4train, Y4train_sung, cv=3,\n",
    "                             method=\"decision_function\")\n",
    "n, bins, patches = plt.hist(y_scores, 100)\n",
    "\n",
    "plt.xlabel('Decision treshold for each training sample')\n",
    "plt.ylabel('Count')"
   ]
  },
  {
   "cell_type": "code",
   "execution_count": 132,
   "metadata": {},
   "outputs": [],
   "source": [
    "# hack to work around issue #9589 in Scikit-Learn 0.19.0\n",
    "if y_scores.ndim == 2:\n",
    "    y_scores = y_scores[:, 1]"
   ]
  },
  {
   "cell_type": "code",
   "execution_count": 134,
   "metadata": {},
   "outputs": [],
   "source": [
    "fpr, tpr, thresholds = roc_curve(Y4train_sung, y_scores)"
   ]
  },
  {
   "cell_type": "code",
   "execution_count": 136,
   "metadata": {},
   "outputs": [
    {
     "data": {
      "image/png": "[encoded data removed]",
      "text/plain": [
       "<Figure size 576x432 with 1 Axes>"
      ]
     },
     "metadata": {},
     "output_type": "display_data"
    }
   ],
   "source": [
    "def plot_roc_curve(fpr, tpr, label=None):\n",
    "    plt.plot(fpr, tpr, linewidth=2, label=label)\n",
    "    plt.plot([0, 1], [0, 1], 'k--')\n",
    "    plt.axis([0, 1, 0, 1])\n",
    "    plt.xlabel('False Positive Rate', fontsize=16)\n",
    "    plt.ylabel('True Positive Rate', fontsize=16)\n",
    "\n",
    "plt.figure(figsize=(8, 6))\n",
    "plot_roc_curve(fpr, tpr)\n",
    "plt.show()"
   ]
  },
  {
   "cell_type": "code",
   "execution_count": null,
   "metadata": {},
   "outputs": [],
   "source": []
  }
 ],
 "metadata": {
  "kernelspec": {
   "display_name": "Python 3",
   "language": "python",
   "name": "python3"
  },
  "language_info": {
   "codemirror_mode": {
    "name": "ipython",
    "version": 3
   },
   "file_extension": ".py",
   "mimetype": "text/x-python",
   "name": "python",
   "nbconvert_exporter": "python",
   "pygments_lexer": "ipython3",
   "version": "3.6.5"
  }
 },
 "nbformat": 4,
 "nbformat_minor": 2
}
