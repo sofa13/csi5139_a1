{
 "cells": [
  {
   "cell_type": "code",
   "execution_count": 1,
   "metadata": {},
   "outputs": [
    {
     "name": "stdout",
     "output_type": "stream",
     "text": [
      "<PIL.PpmImagePlugin.PpmImageFile image mode=L size=32x30 at 0x160BA02CB00>\n"
     ]
    },
    {
     "name": "stderr",
     "output_type": "stream",
     "text": [
      "C:\\Users\\Sophie\\Anaconda3\\lib\\site-packages\\ipykernel_launcher.py:16: DeprecationWarning: `imread` is deprecated!\n",
      "`imread` is deprecated in SciPy 1.0.0, and will be removed in 1.2.0.\n",
      "Use ``imageio.imread`` instead.\n",
      "  app.launch_new_instance()\n"
     ]
    },
    {
     "data": {
      "text/plain": [
       "<matplotlib.image.AxesImage at 0x160bc962c18>"
      ]
     },
     "execution_count": 1,
     "metadata": {},
     "output_type": "execute_result"
    }
   ],
   "source": [
    "from pathlib import Path\n",
    "import pgm2pil\n",
    "\n",
    "fname = 'datasets/faces/an2i/an2i_left_neutral_open_4.pgm'\n",
    "an2i = Path( fname )\n",
    "an2i.exists()\n",
    "\n",
    "import PIL.Image\n",
    "#origImageOpen = PIL.Image.open\n",
    "#PIL.Image.open = pgm2pil.imageOpenWrapper\n",
    "an2i_im = PIL.Image.open(fname)\n",
    "print(an2i_im)\n",
    "\n",
    "# or we can use the misc package that in turn uses PIL\n",
    "from scipy import misc\n",
    "an2i_im = misc.imread(fname)\n",
    "\n",
    "import importlib\n",
    "# importlib.reload(pgm2pil)\n",
    "\n",
    "\n",
    "# not needed anymore changed pgm2pil\n",
    "# import numpy as np\n",
    "# an2i_im_up = np.flipud(an2i_im)\n",
    "\n",
    "import matplotlib.pyplot as plt\n",
    "\n",
    "# make it non-blocking -- only needed once\n",
    "plt.ion() \n",
    "\n",
    "plt.imshow(an2i_im, cmap=plt.cm.gray)\n",
    "# Only needed if blocking\n",
    "#plt.show()"
   ]
  },
  {
   "cell_type": "code",
   "execution_count": 2,
   "metadata": {},
   "outputs": [
    {
     "name": "stdout",
     "output_type": "stream",
     "text": [
      "30\n",
      "32\n",
      "[[ 45  19  25  58  45  52  45  44  42  40  38  36  34  32  29  27  26  27\n",
      "   29  24  27  25  24  27  28  29  30  32  33  35  36  38]\n",
      " [ 42   6   5  47   3  23  47  44  43  42  40  38  36  34  33  30  29  30\n",
      "   32  27  30  28  26  31  32  32  33  34  36  37  38  39]\n",
      " [ 47  18  14  44   5  21  46  44  43  41  40  38  37  35  33  31  30  31\n",
      "   33  29  32  29  28  32  33  34  34  35  36  38  39  40]\n",
      " [ 26  24  28  32  28  37  45  44  42  41  40  39  37  35  34  31  30  30\n",
      "   34  29  30  30  29  33  34  35  35  36  38  39  40  40]\n",
      " [ 29  29  34  46  34  29  25  26  38  42  40  37  34  32  27  19  19  16\n",
      "   19  20  26  28  30  35  36  36  37  37  38  39  39  40]\n",
      " [ 13  20  15  41  26  40  51  43  37  45  46  20   3   6   2   0   0   0\n",
      "    0   0   3  12  25  34  37  37  37  39  39  39  39  40]\n",
      " [  2  23  14  37   2  21  13  27  23  35   5   2   0   0   0   0   0   0\n",
      "    0   0   0   0  11  31  36  39  39  39  40  40  40  41]\n",
      " [  2  40  28  37   7  16   6  17   8   5   1   0   0   0   0   0   0   0\n",
      "    0   0   0   0   3  20  34  40  41  41  41  42  42  42]\n",
      " [  5  28   7  37  29  43  35  37   9   5  13   0   0   0   0   0   0   0\n",
      "    1   0   0   0   0  17  29  41  39  42  41  38  37  31]\n",
      " [ 30  40  20  30   4  34   9  27  42  44   3   0   0   0   0   0   0   0\n",
      "    4   3   0   1   0   4  21  29  25  32  32  35  31  32]\n",
      " [ 29  26  20  33   3  28   2  21  24  20   0   0   0   0   0   0   0   2\n",
      "    5  15   7  13   0   1  20  21  15   9  12   5  10  31]\n",
      " [ 19  19  39  50  19  33  18  26  15   5   0   0   1   2   1   0   3  12\n",
      "   30  25  20  50   2   0  19  35  38  30   5  14  27  40]\n",
      " [ 60  45  16  16  16  29  13  40  20   3   0   0   2   1   1   8  20  54\n",
      "  100  74  56  44   8   2  32  43  42  26   1  27  43  43]\n",
      " [  2  29   7  15   6  28   5  33  39  46   1   2   7   7   5  72 118 127\n",
      "  110  67  84  46  17  26  41  43  39  15   0  15  40  43]\n",
      " [ 31  41  12  23  22  38  13  33  38  43   2   8  51  25  29  95 130 137\n",
      "  124  88 110  68  30  29  24  19  11   6   0   5  29  43]\n",
      " [  3  39  41  39  42  38  36  35  33  33   7   2  68  73  73 106 135 137\n",
      "  125  94 116  97  26  10   5   3  10  12   9  14  27  38]\n",
      " [  0  20   6  20  37   5   2   2   2   5  24   0  32 115 100 112 129 134\n",
      "  129  95 113  99  26   5   0   0  13  22  43  55  40  32]\n",
      " [ 15  21   9  19  33   8   1   2   2   2  28   0  11  74  87 105 129 134\n",
      "  126 102  99  62  30   2   0   0  15   7  28  17  23  24]\n",
      " [  7  12  13  16  28  10   1   1   1   1  30   0  14  95  85 109 126 133\n",
      "  127 110  93  58  20   0   0   4  14  13  24  13  23  16]\n",
      " [  6  19   5  14  25  11   0   1   1   1  32  20  52 109  88 103 121 126\n",
      "  118  89  68  54  11   0   0   7  11  33  22  16  24  17]\n",
      " [ 14  18   9  10  21  10   0   0   0   0  33  35  88 107 102  86 105 114\n",
      "  103  95  70  54  16  24  19  21   9  28  25  21  27  17]\n",
      " [  9   9   2   8  18  19  19  22  24  27  47  49  92 106 109  93  84  92\n",
      "  101  87  60  50  88 140  87  16  45  44  40  30  47  17]\n",
      " [ 20  12   1   2   8  13  17  44   7  31  56  87  96 108 111 106  79  60\n",
      "   56  52  23  17  46  41  35  71  96  67   6   3  13  10]\n",
      " [ 19   7   1   3   5   9  15  51  57  75  69 109 108 113 114  98  69  45\n",
      "   18  30  43  57 117  74 101 137  78  31  18   4   1   0]\n",
      " [  8   1   0   1   3  31  56  95  85  69  74 118 119 115 114 101  89  75\n",
      "   52  49  47  57  90  72  99 141  84  26  17   5   1   0]\n",
      " [  6   2   0  10  65  74  73  98  60  68  71 103 136 120 118 116 109  90\n",
      "   76  67  31  53  48  75  89 128  82  22  15   5   0   0]\n",
      " [  4   4   2  69  92  66  67  93  78  93  85  73 124 136 132 131 110 105\n",
      "   79  59  44  46  45  72  79  72  76  21  17   6   0   0]\n",
      " [  0   0  19  84 109  78  71  97  69  64  48  65  86 130 138 128 114  76\n",
      "   53  44  27  65  64  73  83  51  51  22  18   7   0   0]\n",
      " [  0   0  49  79 115  97  58 100 100  90  67  86  90  58 119 126  97  59\n",
      "   60  56  73 107  68  80  95  48  66  24  17   7   0   0]\n",
      " [  1   6  78  84  97  92  48  86  98  84  51  64  80  76  68 116  48  60\n",
      "   57  40  67  85  55  80  89  52  82  36  16   8   0   0]]\n"
     ]
    }
   ],
   "source": [
    "print(len(an2i_im))\n",
    "print(len(an2i_im[0]))\n",
    "print(an2i_im)"
   ]
  },
  {
   "cell_type": "code",
   "execution_count": 13,
   "metadata": {},
   "outputs": [
    {
     "name": "stdout",
     "output_type": "stream",
     "text": [
      "[[1 2]\n",
      " [3 4]]\n",
      "[[1 2 3 4]]\n",
      "[[0]\n",
      " [1]\n",
      " [2]\n",
      " [3]\n",
      " [4]\n",
      " [5]\n",
      " [6]\n",
      " [7]\n",
      " [8]\n",
      " [9]]\n"
     ]
    }
   ],
   "source": [
    "import numpy as np\n",
    "\n",
    "# test append\n",
    "a = np.array([[1, 2], [3, 4]])\n",
    "print(a)\n",
    "a = a.reshape(1, -1)\n",
    "print(a)\n",
    "#a = np.empty((1,1))\n",
    "a = None\n",
    "\n",
    "for i in range(10):\n",
    "    #a = np.append(a, np.array([i]))\n",
    "    if a is None:\n",
    "        a = np.array([[i]])\n",
    "    else:\n",
    "        a = np.r_[a, np.array([[i]])]\n",
    "    \n",
    "print(a)"
   ]
  },
  {
   "cell_type": "code",
   "execution_count": null,
   "metadata": {},
   "outputs": [],
   "source": []
  }
 ],
 "metadata": {
  "kernelspec": {
   "display_name": "Python 3",
   "language": "python",
   "name": "python3"
  },
  "language_info": {
   "codemirror_mode": {
    "name": "ipython",
    "version": 3
   },
   "file_extension": ".py",
   "mimetype": "text/x-python",
   "name": "python",
   "nbconvert_exporter": "python",
   "pygments_lexer": "ipython3",
   "version": "3.6.5"
  }
 },
 "nbformat": 4,
 "nbformat_minor": 2
}
